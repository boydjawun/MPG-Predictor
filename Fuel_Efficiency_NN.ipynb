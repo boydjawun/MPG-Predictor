{
 "cells": [
  {
   "cell_type": "markdown",
   "id": "812ab5e8-63a8-4193-8c48-a81511431c33",
   "metadata": {},
   "source": [
    "## Load Data & Preprocess it"
   ]
  },
  {
   "cell_type": "code",
   "execution_count": 39,
   "id": "f8ec3f54-dcab-488c-844e-f85e222b61c9",
   "metadata": {},
   "outputs": [
    {
     "data": {
      "text/html": [
       "<div>\n",
       "<style scoped>\n",
       "    .dataframe tbody tr th:only-of-type {\n",
       "        vertical-align: middle;\n",
       "    }\n",
       "\n",
       "    .dataframe tbody tr th {\n",
       "        vertical-align: top;\n",
       "    }\n",
       "\n",
       "    .dataframe thead th {\n",
       "        text-align: right;\n",
       "    }\n",
       "</style>\n",
       "<table border=\"1\" class=\"dataframe\">\n",
       "  <thead>\n",
       "    <tr style=\"text-align: right;\">\n",
       "      <th></th>\n",
       "      <th>Cylinders</th>\n",
       "      <th>Displacement</th>\n",
       "      <th>Horsepower</th>\n",
       "      <th>Weight</th>\n",
       "      <th>Acceleration</th>\n",
       "      <th>MPG</th>\n",
       "      <th>Model_Year</th>\n",
       "      <th>Origin</th>\n",
       "    </tr>\n",
       "  </thead>\n",
       "  <tbody>\n",
       "    <tr>\n",
       "      <th>203</th>\n",
       "      <td>-0.825623</td>\n",
       "      <td>-0.902462</td>\n",
       "      <td>-0.737741</td>\n",
       "      <td>-0.951552</td>\n",
       "      <td>0.255611</td>\n",
       "      <td>28.0</td>\n",
       "      <td>76</td>\n",
       "      <td>3</td>\n",
       "    </tr>\n",
       "    <tr>\n",
       "      <th>255</th>\n",
       "      <td>0.351689</td>\n",
       "      <td>0.414463</td>\n",
       "      <td>-0.341528</td>\n",
       "      <td>0.293660</td>\n",
       "      <td>0.549616</td>\n",
       "      <td>19.4</td>\n",
       "      <td>78</td>\n",
       "      <td>1</td>\n",
       "    </tr>\n",
       "    <tr>\n",
       "      <th>72</th>\n",
       "      <td>1.529001</td>\n",
       "      <td>1.146088</td>\n",
       "      <td>0.715040</td>\n",
       "      <td>1.341762</td>\n",
       "      <td>-0.626404</td>\n",
       "      <td>13.0</td>\n",
       "      <td>72</td>\n",
       "      <td>1</td>\n",
       "    </tr>\n",
       "    <tr>\n",
       "      <th>235</th>\n",
       "      <td>-0.825623</td>\n",
       "      <td>-0.892707</td>\n",
       "      <td>-1.054711</td>\n",
       "      <td>-1.074303</td>\n",
       "      <td>0.476114</td>\n",
       "      <td>30.5</td>\n",
       "      <td>77</td>\n",
       "      <td>1</td>\n",
       "    </tr>\n",
       "    <tr>\n",
       "      <th>37</th>\n",
       "      <td>1.529001</td>\n",
       "      <td>1.565553</td>\n",
       "      <td>1.639537</td>\n",
       "      <td>1.472775</td>\n",
       "      <td>-1.361417</td>\n",
       "      <td>14.0</td>\n",
       "      <td>71</td>\n",
       "      <td>1</td>\n",
       "    </tr>\n",
       "  </tbody>\n",
       "</table>\n",
       "</div>"
      ],
      "text/plain": [
       "     Cylinders  Displacement  Horsepower    Weight  Acceleration   MPG  \\\n",
       "203  -0.825623     -0.902462   -0.737741 -0.951552      0.255611  28.0   \n",
       "255   0.351689      0.414463   -0.341528  0.293660      0.549616  19.4   \n",
       "72    1.529001      1.146088    0.715040  1.341762     -0.626404  13.0   \n",
       "235  -0.825623     -0.892707   -1.054711 -1.074303      0.476114  30.5   \n",
       "37    1.529001      1.565553    1.639537  1.472775     -1.361417  14.0   \n",
       "\n",
       "     Model_Year  Origin  \n",
       "203          76       3  \n",
       "255          78       1  \n",
       "72           72       1  \n",
       "235          77       1  \n",
       "37           71       1  "
      ]
     },
     "execution_count": 39,
     "metadata": {},
     "output_type": "execute_result"
    }
   ],
   "source": [
    "import torch\n",
    "import torch.nn as nn\n",
    "import pandas as pd\n",
    "\n",
    "url = 'http://archive.ics.uci.edu/ml/machine-learning-databases/auto-mpg/auto-mpg.data'\n",
    "\n",
    "# Create Column Names and identify numerical and no numerical columns\n",
    "column_names = ['MPG', 'Cylinders', 'Displacement', 'Horsepower', 'Weight', 'Acceleration', 'Model_Year', 'Origin']\n",
    "numerical_columns = ['Cylinders', 'Displacement', 'Horsepower', 'Weight', 'Acceleration']\n",
    "non_numerical_columns = ['MPG','Model_Year', 'Origin']\n",
    "\n",
    "df = pd.read_csv(url, names=column_names, na_values='?', comment='\\t', sep=\" \", skipinitialspace=True)\n",
    "\n",
    "# Drop rows containing na values and reset the index of the dataset\n",
    "df = df.dropna()\n",
    "df = df.reset_index(drop=True)\n",
    "\n",
    "# Split the data into training and test data\n",
    "from sklearn.model_selection import train_test_split\n",
    "\n",
    "df_train, df_test = train_test_split(df, test_size=0.2, random_state=1)\n",
    "\n",
    "# Standardize the numerical columns of the training and testing datasets\n",
    "from sklearn.preprocessing import StandardScaler\n",
    "sc = StandardScaler()\n",
    "\n",
    "df_train_sc = sc.fit_transform(df_train[numerical_columns])\n",
    "df_test_sc = sc.transform(df_test[numerical_columns])\n",
    "\n",
    "#Turn the numerical columns back into a Pandas dataframe\n",
    "df_train_df = pd.DataFrame(df_train_sc, columns=numerical_columns, index=df_train.index)\n",
    "df_test_df = pd.DataFrame(df_test_sc, columns=numerical_columns, index=df_test.index)\n",
    "\n",
    "# Concatencate the numerical columns back with the non numerical columns \n",
    "df_train_full = pd.concat([df_train_df, df_train[non_numerical_columns]], axis=1)\n",
    "df_test_full = pd.concat([df_test_df, df_test[non_numerical_columns]], axis=1)\n",
    "\n",
    "df_train_full.tail()"
   ]
  },
  {
   "cell_type": "markdown",
   "id": "ba0e8d32-7789-4fad-bd29-87234067600f",
   "metadata": {},
   "source": [
    "## Bucketize 'Model_Year' & append to numeric_columns"
   ]
  },
  {
   "cell_type": "code",
   "execution_count": 48,
   "id": "acabf058-5a02-4bf8-b6f3-060d34105de7",
   "metadata": {},
   "outputs": [],
   "source": [
    "boundries = torch.tensor([73, 76, 79]) #buckets all of the car model years will fall into\n",
    "\n",
    "v = torch.tensor(df_train_full['Model_Year'].values) # Creating a tensor for the values in the 'Model_Year' column\n",
    "df_train_full['Model_Year_Buckets'] = torch.bucketize(v, boundries, right=True) # Creating a new 'Model_Year_Buckets' column \n",
    "\n",
    "v = torch.tensor(df_test_full['Model_Year'].values)\n",
    "df_test_full['Model_Year_Buckets'] = torch.bucketize(v, boundries, right=True)\n",
    "\n",
    "numerical_columns.append('Model_Year_Buckets') # Appends 'Model_Year_Buckets' column to the numerical column names list"
   ]
  },
  {
   "cell_type": "markdown",
   "id": "5a0eadfe-db78-4ae9-bffb-830d56bb6983",
   "metadata": {},
   "source": [
    "## Encode 'Origin' with One Hot Encoder"
   ]
  },
  {
   "cell_type": "code",
   "execution_count": 60,
   "id": "1c620700-4817-4ca7-aca4-31d17b1f3dd0",
   "metadata": {},
   "outputs": [],
   "source": [
    "from torch.nn.functional import one_hot\n",
    "\n",
    "total_origin = len(set(df_train_full['Origin'])) # creating a list of all of the unique values in the 'Origin' column\n",
    "\n",
    "origin_encoded = one_hot(torch.from_numpy(df_train_full['Origin'].values) % total_origin) # Encoding the values in the 'Origin' column\n",
    "X_train_numerical = torch.tensor(df_train_full[numerical_columns].values) # Creating a tensor of the values of the numerical columns\n",
    "X_train = torch.cat([X_train_numerical, origin_encoded], 1).float() # Concatenating the origin and numerical column tensors\n",
    "\n",
    "origin_encoded = one_hot(torch.from_numpy(df_test_full['Origin'].values) % total_origin)\n",
    "X_test_numerical = torch.tensor(df_test_full[numerical_columns].values)\n",
    "X_test = torch.cat([X_test_numerical, origin_encoded], 1).float()"
   ]
  },
  {
   "cell_type": "markdown",
   "id": "e26841c7-3a22-454b-9d16-c0dba4b879b1",
   "metadata": {},
   "source": [
    "## Create Label Tensors for 'MPG'"
   ]
  },
  {
   "cell_type": "code",
   "execution_count": 62,
   "id": "18472738-9a72-402d-a515-7e45fa80dc37",
   "metadata": {},
   "outputs": [],
   "source": [
    "y_train = torch.tensor(df_train_full['MPG'].values).float() # Creating a tensor of the values in the 'MPG' column\n",
    "y_test = torch.tensor(df_test_full['MPG'].values).float()"
   ]
  },
  {
   "cell_type": "markdown",
   "id": "8d59fd9e-b70d-436b-8a60-90f3cf7b0e22",
   "metadata": {},
   "source": [
    "## Create Data Loader w/ Batch Size 8"
   ]
  },
  {
   "cell_type": "code",
   "execution_count": 66,
   "id": "656136a3-006b-4136-a907-831414711ed1",
   "metadata": {},
   "outputs": [],
   "source": [
    "from torch.utils.data import DataLoader, TensorDataset\n",
    "\n",
    "train_dataset = TensorDataset(X_train, y_train) # Creating a dataset of the X and y training data\n",
    "batch_size = 8 #The batch size for training\n",
    "torch.manual_seed(1)\n",
    "train_dataload = DataLoader(train_dataset, batch_size=batch_size, shuffle=True) #Loads data using the training dataset and the batch size"
   ]
  },
  {
   "cell_type": "markdown",
   "id": "66e364f4-ca14-416a-820b-3185194a08e0",
   "metadata": {},
   "source": [
    "## Build NN model & Initialize it"
   ]
  },
  {
   "cell_type": "code",
   "execution_count": 72,
   "id": "3d0158fe-9cf4-4642-8207-9180296ee528",
   "metadata": {},
   "outputs": [],
   "source": [
    "class Model(nn.Module):\n",
    "    def __init__(self, input_size = X_train.shape[1]):\n",
    "        super().__init__()\n",
    "        hidden_units = [8, 4]\n",
    "        \n",
    "        self.layer1 = nn.Linear(in_features=input_size, out_features=hidden_units[0], bias=True)\n",
    "        self.relu1 = nn.ReLU()\n",
    "\n",
    "        self.layer2 = nn.Linear(in_features=hidden_units[0], out_features=hidden_units[1], bias=True)\n",
    "        self.relu2 = nn.ReLU()\n",
    "\n",
    "        self.out = nn.Linear(in_features=hidden_units[1], out_features=1)\n",
    "\n",
    "    def forward(self, x):\n",
    "        x = self.relu1(self.layer1(x))\n",
    "        x = self.relu2(self.layer2(x))\n",
    "        x = self.out(x)\n",
    "\n",
    "        return x\n",
    "    "
   ]
  },
  {
   "cell_type": "markdown",
   "id": "f4b18877-6524-49d7-9ee3-133cfa77b159",
   "metadata": {},
   "source": [
    "## Initialize the model"
   ]
  },
  {
   "cell_type": "code",
   "execution_count": 74,
   "id": "c7cb498a-ab2f-4da1-9875-dcf833dc9aae",
   "metadata": {},
   "outputs": [],
   "source": [
    "model = Model()"
   ]
  },
  {
   "cell_type": "markdown",
   "id": "813fe17a-0ad1-4af1-9045-ecb81005fedb",
   "metadata": {},
   "source": [
    "## Loss/Error & Optimizer"
   ]
  },
  {
   "cell_type": "code",
   "execution_count": 78,
   "id": "26459e1d-18e0-45dd-b255-e7d770bd2922",
   "metadata": {},
   "outputs": [],
   "source": [
    "loss_fn = nn.MSELoss()\n",
    "optimizer = torch.optim.SGD(model.parameters(), lr=0.001)"
   ]
  },
  {
   "cell_type": "markdown",
   "id": "0dea0a74-5568-4144-b486-37ea051fbd93",
   "metadata": {},
   "source": [
    "## Train Model"
   ]
  },
  {
   "cell_type": "code",
   "execution_count": 85,
   "id": "b951fdd4-d73a-475b-8f29-a585bcaefd8c",
   "metadata": {},
   "outputs": [
    {
     "name": "stdout",
     "output_type": "stream",
     "text": [
      "Epoch: 0 | Loss: 35.5917\n",
      "Epoch: 20 | Loss: 8.0433\n",
      "Epoch: 40 | Loss: 7.3729\n",
      "Epoch: 60 | Loss: 7.1512\n",
      "Epoch: 80 | Loss: 6.7276\n",
      "Epoch: 100 | Loss: 6.7571\n",
      "Epoch: 120 | Loss: 6.3095\n",
      "Epoch: 140 | Loss: 6.5172\n",
      "Epoch: 160 | Loss: 6.7965\n",
      "Epoch: 180 | Loss: 6.2448\n"
     ]
    }
   ],
   "source": [
    "torch.manual_seed(1)\n",
    "num_epochs = 200\n",
    "log_epochs = 20\n",
    "\n",
    "for epochs in range(num_epochs):\n",
    "    loss_hist_train = 0\n",
    "    for X_batch, y_batch in train_dataload:\n",
    "        pred = model(X_batch)[:, 0]\n",
    "        loss = loss_fn(pred, y_batch)\n",
    "        loss.backward()\n",
    "        optimizer.step()\n",
    "        optimizer.zero_grad()\n",
    "        loss_hist_train += loss.item()\n",
    "\n",
    "    if epochs % log_epochs == 0:\n",
    "        print(f'Epoch: {epochs} | Loss: {loss_hist_train/len(train_dataload):.4f}')"
   ]
  },
  {
   "cell_type": "markdown",
   "id": "d3817efb-b739-4186-bd31-b4cfa12f5d87",
   "metadata": {},
   "source": [
    "## Test the data"
   ]
  },
  {
   "cell_type": "code",
   "execution_count": 90,
   "id": "81175efc-3471-447f-a2e9-d0f0cddbb615",
   "metadata": {},
   "outputs": [
    {
     "name": "stdout",
     "output_type": "stream",
     "text": [
      "Test MSE: 9.5496\n",
      "Test MAE: 2.1327\n"
     ]
    }
   ],
   "source": [
    "with torch.no_grad():\n",
    "    pred = model(X_test)[:, 0]\n",
    "    loss = loss_fn(pred, y_test)\n",
    "    print(f\"Test MSE: {loss.item():.4f}\")\n",
    "    print(f'Test MAE: {nn.L1Loss() (pred, y_test).item():.4f}')"
   ]
  },
  {
   "cell_type": "markdown",
   "id": "7c6951d1-811b-463e-bd26-3ef986e3205c",
   "metadata": {},
   "source": [
    "## Testing New Car Data"
   ]
  },
  {
   "cell_type": "code",
   "execution_count": 107,
   "id": "2f7c1daa-85e8-407a-9031-f98a23a6a6c6",
   "metadata": {},
   "outputs": [
    {
     "name": "stdout",
     "output_type": "stream",
     "text": [
      "Your predicted MPG is: 36.04\n"
     ]
    }
   ],
   "source": [
    "# Raw new car data\n",
    "new_car = pd.DataFrame({\n",
    "    'Cylinders': [6],\n",
    "    'Displacement': [97.00],\n",
    "    'Horsepower': [88.00],\n",
    "    'Weight': [2130.0],\n",
    "    'Acceleration': [15],\n",
    "    'Model_Year': [2020],\n",
    "    'Origin': ['Europe']\n",
    "})\n",
    "\n",
    "def Predicted_mpg(new_car_data):\n",
    "    # Preprocess the data\n",
    "    numeric_columns = ['Cylinders', 'Displacement', 'Horsepower', 'Weight', 'Acceleration']\n",
    "    new_car_numeric = sc.transform(new_car[numeric_columns])  # Normalize using fitted scaler\n",
    "    \n",
    "    # Bucket 'Model_Year' (using the same boundaries as training, e.g., [73, 76, 79])\n",
    "    boundaries = [73, 76, 79]\n",
    "    model_year_bucketed = torch.bucketize(torch.tensor(new_car['Model_Year'].values), torch.tensor(boundaries), right=True)\n",
    "    \n",
    "    # One-hot encode 'Origin'\n",
    "    origin_values = ['USA', 'Japan', 'Europe']\n",
    "    origin_encoded = torch.zeros(1, len(origin_values), dtype=torch.float32)\n",
    "    origin_idx = origin_values.index(new_car['Origin'].iloc[0])\n",
    "    origin_encoded[0, origin_idx] = 1\n",
    "    \n",
    "    # Combine into a single tensor\n",
    "    new_car_data = torch.cat((\n",
    "        torch.tensor(new_car_numeric, dtype=torch.float32),\n",
    "        model_year_bucketed.float().unsqueeze(1),\n",
    "        origin_encoded\n",
    "    ), dim=1)\n",
    "    \n",
    "    # Make prediction\n",
    "    model.eval()\n",
    "    with torch.no_grad():\n",
    "        prediction = model(new_car_data).item()\n",
    "    \n",
    "    print(f'Your predicted MPG is: {prediction:.2f}')\n",
    "\n",
    "Predicted_mpg(new_car)"
   ]
  },
  {
   "cell_type": "code",
   "execution_count": null,
   "id": "36686fd2-829b-46e6-8dfc-dfb881df450f",
   "metadata": {},
   "outputs": [],
   "source": []
  }
 ],
 "metadata": {
  "kernelspec": {
   "display_name": "Python [conda env:base] *",
   "language": "python",
   "name": "conda-base-py"
  },
  "language_info": {
   "codemirror_mode": {
    "name": "ipython",
    "version": 3
   },
   "file_extension": ".py",
   "mimetype": "text/x-python",
   "name": "python",
   "nbconvert_exporter": "python",
   "pygments_lexer": "ipython3",
   "version": "3.12.7"
  }
 },
 "nbformat": 4,
 "nbformat_minor": 5
}
